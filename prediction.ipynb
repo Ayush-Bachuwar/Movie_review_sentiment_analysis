{
 "cells": [
  {
   "cell_type": "code",
   "execution_count": 5,
   "id": "8c8e1747",
   "metadata": {},
   "outputs": [],
   "source": [
    "import numpy as np\n",
    "import tensorflow as tf\n",
    "from tensorflow.keras.datasets import imdb\n",
    "from tensorflow.keras.preprocessing import sequence\n",
    "from tensorflow.keras.models import load_model, Sequential\n",
    "from tensorflow.keras.layers import Embedding,Dense,SimpleRNN"
   ]
  },
  {
   "cell_type": "code",
   "execution_count": 6,
   "id": "9fe99c8a",
   "metadata": {},
   "outputs": [],
   "source": [
    "word_index = imdb.get_word_index()\n",
    "reversed_word_index = {v: k for k, v in word_index.items()}"
   ]
  },
  {
   "cell_type": "code",
   "execution_count": 8,
   "id": "f16fc36c",
   "metadata": {},
   "outputs": [
    {
     "name": "stdout",
     "output_type": "stream",
     "text": [
      "Model: \"sequential\"\n",
      "_________________________________________________________________\n",
      " Layer (type)                Output Shape              Param #   \n",
      "=================================================================\n",
      " embedding (Embedding)       (None, 400, 64)           640000    \n",
      "                                                                 \n",
      " simple_rnn (SimpleRNN)      (None, 64)                8256      \n",
      "                                                                 \n",
      " dense (Dense)               (None, 1)                 65        \n",
      "                                                                 \n",
      "=================================================================\n",
      "Total params: 648321 (2.47 MB)\n",
      "Trainable params: 648321 (2.47 MB)\n",
      "Non-trainable params: 0 (0.00 Byte)\n",
      "_________________________________________________________________\n"
     ]
    }
   ],
   "source": [
    "model = load_model('imdb_rnn_model.h5')\n",
    "model.summary()\n"
   ]
  },
  {
   "cell_type": "code",
   "execution_count": 12,
   "id": "125d4b24",
   "metadata": {},
   "outputs": [
    {
     "name": "stdout",
     "output_type": "stream",
     "text": [
      "[array([[ 0.03997388,  0.00575058, -0.0454151 , ..., -0.03940674,\n",
      "        -0.03767858,  0.04444392],\n",
      "       [-0.01946107, -0.00800075,  0.03206216, ...,  0.01779267,\n",
      "        -0.05760651,  0.10434785],\n",
      "       [-0.0173029 ,  0.04242661, -0.03918178, ...,  0.01211347,\n",
      "         0.00254103,  0.00749058],\n",
      "       ...,\n",
      "       [-0.04948588, -0.04652452, -0.03532549, ..., -0.03764036,\n",
      "        -0.04176045, -0.00306032],\n",
      "       [ 0.07146409,  0.04950177, -0.00221663, ...,  0.01463514,\n",
      "         0.01331398, -0.06398574],\n",
      "       [-0.03285591, -0.06473849,  0.07306537, ...,  0.03282976,\n",
      "         0.02893334,  0.07130563]], dtype=float32), array([[-0.10397908, -0.13873115,  0.08365799, ..., -0.21630386,\n",
      "         0.13052355, -0.05177128],\n",
      "       [-0.03783549,  0.11174121,  0.15688682, ..., -0.15269193,\n",
      "        -0.17818768,  0.00728594],\n",
      "       [-0.10568377,  0.13890332, -0.14437139, ..., -0.02908078,\n",
      "         0.12439971, -0.1969724 ],\n",
      "       ...,\n",
      "       [ 0.04230074,  0.23528656, -0.01143399, ...,  0.3057774 ,\n",
      "         0.1845874 ,  0.0600305 ],\n",
      "       [-0.02325135,  0.02917525,  0.08325765, ..., -0.02925841,\n",
      "         0.19295485,  0.18419656],\n",
      "       [ 0.00070368,  0.24934801, -0.13062978, ...,  0.26579008,\n",
      "         0.16581294,  0.02356683]], dtype=float32), array([[-0.07022941, -0.02611606, -0.09036506, ..., -0.02647822,\n",
      "        -0.03653447,  0.04124457],\n",
      "       [ 0.06425816, -0.03524628, -0.02618132, ..., -0.25441507,\n",
      "        -0.07240996,  0.04750444],\n",
      "       [ 0.05545993,  0.00482525,  0.1832527 , ...,  0.14351863,\n",
      "         0.01716296,  0.14195704],\n",
      "       ...,\n",
      "       [-0.1006402 , -0.2029026 , -0.15470226, ..., -0.09079698,\n",
      "         0.00574138, -0.23704398],\n",
      "       [ 0.06987678,  0.01762154,  0.0732342 , ...,  0.21259822,\n",
      "         0.17553689,  0.0099605 ],\n",
      "       [ 0.00036166,  0.0011328 ,  0.07938161, ..., -0.24095514,\n",
      "         0.02421846,  0.2999734 ]], dtype=float32), array([-0.02164093,  0.00089458, -0.01159571,  0.01136186, -0.01041882,\n",
      "       -0.0306296 , -0.04212144,  0.01318565,  0.01039069,  0.02815203,\n",
      "       -0.03084039,  0.00147889,  0.02428656,  0.00914272,  0.04246311,\n",
      "        0.00557141,  0.01171784, -0.00933504, -0.01327175,  0.01806044,\n",
      "        0.03106615, -0.01566203, -0.03583567,  0.01047264,  0.00713794,\n",
      "        0.00810252,  0.0212432 , -0.00682207,  0.00762335, -0.01983649,\n",
      "        0.0242283 ,  0.03951097,  0.01892534,  0.01402144,  0.01845213,\n",
      "        0.01609781,  0.03553336,  0.00696273, -0.01826049, -0.01540972,\n",
      "        0.01439723, -0.014861  , -0.00426577, -0.03031828, -0.00022648,\n",
      "       -0.01330744,  0.00947542, -0.01378598, -0.04754741, -0.03741957,\n",
      "       -0.01419438, -0.03702311,  0.02525045, -0.0125373 ,  0.02683796,\n",
      "       -0.0009297 , -0.03483466, -0.00056534, -0.01814392, -0.01244798,\n",
      "       -0.00161066, -0.03410664,  0.01212604,  0.02895549], dtype=float32), array([[ 0.15074219],\n",
      "       [ 0.11660825],\n",
      "       [-0.06971692],\n",
      "       [-0.3432976 ],\n",
      "       [ 0.27802655],\n",
      "       [ 0.09878614],\n",
      "       [ 0.03870017],\n",
      "       [-0.38685942],\n",
      "       [-0.21822862],\n",
      "       [-0.14124386],\n",
      "       [-0.06598119],\n",
      "       [ 0.2327113 ],\n",
      "       [ 0.20046198],\n",
      "       [-0.42318654],\n",
      "       [-0.3609615 ],\n",
      "       [ 0.05710092],\n",
      "       [-0.24537922],\n",
      "       [-0.16476065],\n",
      "       [-0.27928513],\n",
      "       [-0.28227323],\n",
      "       [-0.36799493],\n",
      "       [-0.21193126],\n",
      "       [-0.10780423],\n",
      "       [ 0.25591317],\n",
      "       [-0.18823895],\n",
      "       [ 0.26606238],\n",
      "       [-0.37219855],\n",
      "       [-0.25508356],\n",
      "       [ 0.2567947 ],\n",
      "       [ 0.05102878],\n",
      "       [ 0.04741108],\n",
      "       [ 0.02694735],\n",
      "       [ 0.364018  ],\n",
      "       [-0.32884833],\n",
      "       [ 0.44468358],\n",
      "       [-0.34444627],\n",
      "       [-0.01295426],\n",
      "       [ 0.1970869 ],\n",
      "       [-0.15133485],\n",
      "       [-0.17407505],\n",
      "       [ 0.12565723],\n",
      "       [-0.3258575 ],\n",
      "       [ 0.517804  ],\n",
      "       [ 0.02301834],\n",
      "       [-0.1216804 ],\n",
      "       [ 0.4105918 ],\n",
      "       [ 0.28205118],\n",
      "       [-0.04210526],\n",
      "       [ 0.42510095],\n",
      "       [-0.15974163],\n",
      "       [-0.09884353],\n",
      "       [ 0.27735737],\n",
      "       [-0.54916674],\n",
      "       [ 0.08960439],\n",
      "       [-0.00497013],\n",
      "       [ 0.11223906],\n",
      "       [ 0.12796544],\n",
      "       [ 0.1331927 ],\n",
      "       [ 0.0389563 ],\n",
      "       [ 0.51550025],\n",
      "       [-0.04134274],\n",
      "       [ 0.39893293],\n",
      "       [-0.16300629],\n",
      "       [-0.29004794]], dtype=float32), array([-0.04202452], dtype=float32)]\n"
     ]
    }
   ],
   "source": [
    "print(model.get_weights())"
   ]
  },
  {
   "cell_type": "code",
   "execution_count": 24,
   "id": "5c92f094",
   "metadata": {},
   "outputs": [],
   "source": [
    "def decode_review(encoded_review):\n",
    "    return ' '.join([reversed_word_index.get(i - 3, '?') for i in encoded_review])\n",
    "def preprocess_review(review):\n",
    "    words = review.lower().split()\n",
    "    encoded_review = [word_index.get(word, 2) + 3 for word in review.split()]\n",
    "    return sequence.pad_sequences([encoded_review], maxlen=400)\n",
    "def predict_review(review):\n",
    "    encoded_review = preprocess_review(review)\n",
    "    prediction = model.predict(encoded_review)\n",
    "    prediction_label = 'Positive' if prediction[0][0] > 0.5 else 'Negative'\n",
    "    return prediction_label\n"
   ]
  },
  {
   "cell_type": "code",
   "execution_count": 28,
   "id": "afe68812",
   "metadata": {},
   "outputs": [
    {
     "name": "stdout",
     "output_type": "stream",
     "text": [
      "1/1 [==============================] - 0s 14ms/step\n",
      "Review: Positive\n",
      "1/1 [==============================] - 0s 11ms/step\n",
      "Review1: Negative\n"
     ]
    }
   ],
   "source": [
    "#predicting a review\n",
    "review = \"This movie was crazy and it was a nice experience.\"\n",
    "\n",
    "review1 = \"This was the worst movie I have ever seen. It was a waste of time. please don't watch it. very bad movie. I don't like it. I hate it. I don't like it at all. yuck!\"\n",
    "\n",
    "# encoded_review = preprocess_review(review)\n",
    "# prediction = model.predict(encoded_review)\n",
    "# print(f\"Review: {review}\")\n",
    "# print(f\"Encoded Review: {encoded_review}\")\n",
    "# # print(f\"Prediction: {prediction[0][0]}\")\n",
    "# prediction_label = 'Positive' if prediction[0][0] > 0.5 else 'Negative'\n",
    "# print(f\"Prediction Label: {prediction_label}\")\n",
    "print(f\"Review: {predict_review(review)}\")\n",
    "print (f\"Review1: {predict_review(review1)}\")\n"
   ]
  },
  {
   "cell_type": "code",
   "execution_count": null,
   "id": "b989f269",
   "metadata": {},
   "outputs": [],
   "source": []
  }
 ],
 "metadata": {
  "kernelspec": {
   "display_name": "venv",
   "language": "python",
   "name": "python3"
  },
  "language_info": {
   "codemirror_mode": {
    "name": "ipython",
    "version": 3
   },
   "file_extension": ".py",
   "mimetype": "text/x-python",
   "name": "python",
   "nbconvert_exporter": "python",
   "pygments_lexer": "ipython3",
   "version": "3.11.0"
  }
 },
 "nbformat": 4,
 "nbformat_minor": 5
}

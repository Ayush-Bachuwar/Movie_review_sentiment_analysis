{
 "cells": [
  {
   "cell_type": "code",
   "execution_count": 1,
   "id": "e3395580",
   "metadata": {},
   "outputs": [],
   "source": [
    "import numpy as np\n",
    "import tensorflow as tf\n",
    "from tensorflow.keras.datasets import imdb\n",
    "from tensorflow.keras.preprocessing import sequence\n",
    "from tensorflow.keras.models import Sequential\n",
    "from tensorflow.keras.layers import Embedding,Dense,SimpleRNN"
   ]
  },
  {
   "cell_type": "code",
   "execution_count": null,
   "id": "985b66f8",
   "metadata": {},
   "outputs": [
    {
     "name": "stdout",
     "output_type": "stream",
     "text": [
      "Downloading data from https://storage.googleapis.com/tensorflow/tf-keras-datasets/imdb.npz\n",
      "17464789/17464789 [==============================] - 23s 1us/step\n",
      "Training samples: 25000, Test samples: 25000\n"
     ]
    }
   ],
   "source": [
    "# Load the IMDB dataset\n",
    "max_features = 10000  # Number of unique words to consider\n",
    "# This line loads the IMDB movie review dataset, splitting it into training and test sets.\n",
    "# Each review is encoded as a sequence of word indices, limited to the top 'max_features' most frequent words.\n",
    "(x_train, y_train), (x_test, y_test) = imdb.load_data(num_words=max_features)\n",
    "\n"
   ]
  },
  {
   "cell_type": "code",
   "execution_count": 5,
   "id": "f621756c",
   "metadata": {},
   "outputs": [
    {
     "name": "stdout",
     "output_type": "stream",
     "text": [
      "Training samples: 25000, Test samples: 25000\n"
     ]
    },
    {
     "data": {
      "text/plain": [
       "(25000,)"
      ]
     },
     "execution_count": 5,
     "metadata": {},
     "output_type": "execute_result"
    }
   ],
   "source": [
    "print(f\"Training samples: {len(x_train)}, Test samples: {len(x_test)}\")\n",
    "x_train.shape"
   ]
  },
  {
   "cell_type": "code",
   "execution_count": 9,
   "id": "0da8585e",
   "metadata": {},
   "outputs": [
    {
     "name": "stdout",
     "output_type": "stream",
     "text": [
      "[1, 14, 22, 16, 43, 530, 973, 1622, 1385, 65, 458, 4468, 66, 3941, 4, 173, 36, 256, 5, 25, 100, 43, 838, 112, 50, 670, 2, 9, 35, 480, 284, 5, 150, 4, 172, 112, 167, 2, 336, 385, 39, 4, 172, 4536, 1111, 17, 546, 38, 13, 447, 4, 192, 50, 16, 6, 147, 2025, 19, 14, 22, 4, 1920, 4613, 469, 4, 22, 71, 87, 12, 16, 43, 530, 38, 76, 15, 13, 1247, 4, 22, 17, 515, 17, 12, 16, 626, 18, 2, 5, 62, 386, 12, 8, 316, 8, 106, 5, 4, 2223, 5244, 16, 480, 66, 3785, 33, 4, 130, 12, 16, 38, 619, 5, 25, 124, 51, 36, 135, 48, 25, 1415, 33, 6, 22, 12, 215, 28, 77, 52, 5, 14, 407, 16, 82, 2, 8, 4, 107, 117, 5952, 15, 256, 4, 2, 7, 3766, 5, 723, 36, 71, 43, 530, 476, 26, 400, 317, 46, 7, 4, 2, 1029, 13, 104, 88, 4, 381, 15, 297, 98, 32, 2071, 56, 26, 141, 6, 194, 7486, 18, 4, 226, 22, 21, 134, 476, 26, 480, 5, 144, 30, 5535, 18, 51, 36, 28, 224, 92, 25, 104, 4, 226, 65, 16, 38, 1334, 88, 12, 16, 283, 5, 16, 4472, 113, 103, 32, 15, 16, 5345, 19, 178, 32] 1\n"
     ]
    }
   ],
   "source": [
    "print(x_train[0],y_train[0])\n",
    "sample_review = x_train[0]\n",
    "sample_label = y_train[0]"
   ]
  },
  {
   "cell_type": "code",
   "execution_count": null,
   "id": "fcff7024",
   "metadata": {},
   "outputs": [
    {
     "name": "stdout",
     "output_type": "stream",
     "text": [
      "88584\n"
     ]
    }
   ],
   "source": [
    "word_index = imdb.get_word_index()\n",
    "word_index\n",
    "print(len(word_index))\n",
    "reversed_word_index = {v: k for k,v in word_index.items()}\n",
    "# This line decodes the integer-encoded review back to words.\n",
    "# For each word index in sample_review, it looks up the corresponding word in reversed_word_index,\n",
    "# subtracting 3 because indices 0, 1, and 2 are reserved (for padding, start of sequence, and unknown).\n",
    "# If the word index is not found, it uses '?' as a placeholder.\n",
    "decode_review = ' '.join([reversed_word_index.get(i-3, '?') for i in sample_review])\n",
    "print(decode_review)\n"
   ]
  },
  {
   "cell_type": "code",
   "execution_count": 33,
   "id": "b3bd2593",
   "metadata": {},
   "outputs": [
    {
     "name": "stdout",
     "output_type": "stream",
     "text": [
      "1 : ?, 14 : this, 22 : film, 16 : was, 43 : just, 530 : brilliant, 973 : casting, 1622 : location, 1385 : scenery, 65 : story, 458 : direction, 4468 : everyone's, 66 : really, 3941 : suited, 4 : the, 173 : part, 36 : they, 256 : played, 5 : and, 25 : you, 100 : could, 43 : just, 838 : imagine, 112 : being, 50 : there, 670 : robert, 2 : ?, 9 : is, 35 : an, 480 : amazing, 284 : actor, 5 : and, 150 : now, 4 : the, 172 : same, 112 : being, 167 : director, 2 : ?, 336 : father, 385 : came, 39 : from, 4 : the, 172 : same, 4536 : scottish, 1111 : island, 17 : as, 546 : myself, 38 : so, 13 : i, 447 : loved, 4 : the, 192 : fact, 50 : there, 16 : was, 6 : a, 147 : real, 2025 : connection, 19 : with, 14 : this, 22 : film, 4 : the, 1920 : witty, 4613 : remarks, 469 : throughout, 4 : the, 22 : film, 71 : were, 87 : great, 12 : it, 16 : was, 43 : just, 530 : brilliant, 38 : so, 76 : much, 15 : that, 13 : i, 1247 : bought, 4 : the, 22 : film, 17 : as, 515 : soon, 17 : as, 12 : it, 16 : was, 626 : released, 18 : for, 2 : ?, 5 : and, 62 : would, 386 : recommend, 12 : it, 8 : to, 316 : everyone, 8 : to, 106 : watch, 5 : and, 4 : the, 2223 : fly, 5244 : fishing, 16 : was, 480 : amazing, 66 : really, 3785 : cried, 33 : at, 4 : the, 130 : end, 12 : it, 16 : was, 38 : so, 619 : sad, 5 : and, 25 : you, 124 : know, 51 : what, 36 : they, 135 : say, 48 : if, 25 : you, 1415 : cry, 33 : at, 6 : a, 22 : film, 12 : it, 215 : must, 28 : have, 77 : been, 52 : good, 5 : and, 14 : this, 407 : definitely, 16 : was, 82 : also, 2 : ?, 8 : to, 4 : the, 107 : two, 117 : little, 5952 : boy's, 15 : that, 256 : played, 4 : the, 2 : ?, 7 : of, 3766 : norman, 5 : and, 723 : paul, 36 : they, 71 : were, 43 : just, 530 : brilliant, 476 : children, 26 : are, 400 : often, 317 : left, 46 : out, 7 : of, 4 : the, 2 : ?, 1029 : list, 13 : i, 104 : think, 88 : because, 4 : the, 381 : stars, 15 : that, 297 : play, 98 : them, 32 : all, 2071 : grown, 56 : up, 26 : are, 141 : such, 6 : a, 194 : big, 7486 : profile, 18 : for, 4 : the, 226 : whole, 22 : film, 21 : but, 134 : these, 476 : children, 26 : are, 480 : amazing, 5 : and, 144 : should, 30 : be, 5535 : praised, 18 : for, 51 : what, 36 : they, 28 : have, 224 : done, 92 : don't, 25 : you, 104 : think, 4 : the, 226 : whole, 65 : story, 16 : was, 38 : so, 1334 : lovely, 88 : because, 12 : it, 16 : was, 283 : true, 5 : and, 16 : was, 4472 : someone's, 113 : life, 103 : after, 32 : all, 15 : that, 16 : was, 5345 : shared, 19 : with, 178 : us, 32 : all, "
     ]
    }
   ],
   "source": [
    "\n",
    "\n",
    "\n",
    "for i in sample_review:\n",
    "    print(f\"{i} : {reversed_word_index.get(i-3, '?')}\", end=\", \")\n",
    "    # print(i-3)"
   ]
  },
  {
   "cell_type": "code",
   "execution_count": 43,
   "id": "74f9da86",
   "metadata": {},
   "outputs": [],
   "source": [
    "# Padding sequences to ensure uniform input size\n",
    "maxlen = 400  # Maximum length of each review\n",
    "x_train = sequence.pad_sequences(x_train, maxlen=maxlen)\n",
    "x_test = sequence.pad_sequences(x_test, maxlen=maxlen)"
   ]
  },
  {
   "cell_type": "code",
   "execution_count": 44,
   "id": "92dc8b94",
   "metadata": {},
   "outputs": [
    {
     "data": {
      "text/plain": [
       "array([   0,    0,    0,    0,    0,    0,    0,    0,    0,    0,    0,\n",
       "          0,    0,    0,    0,    0,    0,    0,    0,    0,    0,    0,\n",
       "          0,    0,    0,    0,    0,    0,    0,    0,    0,    0,    0,\n",
       "          0,    0,    0,    0,    0,    0,    0,    0,    0,    0,    0,\n",
       "          0,    0,    0,    0,    0,    0,    0,    0,    0,    0,    0,\n",
       "          0,    0,    0,    0,    0,    0,    0,    0,    0,    0,    0,\n",
       "          0,    0,    0,    0,    0,    0,    0,    0,    0,    0,    0,\n",
       "          0,    0,    0,    0,    0,    0,    0,    0,    0,    0,    0,\n",
       "          0,    0,    0,    0,    0,    0,    0,    0,    0,    0,    0,\n",
       "          0,    0,    0,    0,    0,    0,    0,    0,    0,    0,    0,\n",
       "          0,    0,    0,    0,    0,    0,    0,    0,    0,    0,    0,\n",
       "          0,    0,    0,    0,    0,    0,    0,    0,    0,    0,    0,\n",
       "          0,    0,    0,    0,    0,    0,    0,    0,    0,    0,    0,\n",
       "          0,    0,    0,    0,    0,    0,    0,    0,    0,    0,    0,\n",
       "          0,    0,    0,    0,    0,    0,    0,    0,    0,    0,    0,\n",
       "          0,    0,    0,    0,    0,    0,    0,    0,    0,    0,    0,\n",
       "          0,    0,    0,    0,    0,    0,    0,    0,    0,    0,    0,\n",
       "          0,    0,    0,    0,    0,    0,    0,    0,    0,    0,    0,\n",
       "          0,    0,    0,    0,    0,    0,    0,    0,    0,    0,    0,\n",
       "          0,    0,    0,    0,    0,    0,    0,    0,    0,    0,    0,\n",
       "          0,    0,    0,    0,    0,    0,    0,    0,    0,    0,    0,\n",
       "          0,    0,    0,    0,    0,    0,    0,    0,    0,    0,    0,\n",
       "          0,    0,    0,    0,    0,    0,    0,    0,    0,    0,    0,\n",
       "          0,    0,    0,    0,    0,    0,    0,    0,    0,    0,    0,\n",
       "          0,    0,    0,    0,    0,    0,    0,    0,    0,    0,    0,\n",
       "          0,    0,    0,    0,    0,    0,    0,    0,    0,    0,    0,\n",
       "          0,    0,    0,    0,    0,    0,    0,    0,    0,    0,    0,\n",
       "          0,    0,    0,    0,    0,    0,    0,    0,    0,    0,    0,\n",
       "          0,    0,    0,    0,    0,    0,    0,    0,    0,    0,    0,\n",
       "          0,    0,    0,    0,    0,    0,    0,    0,    0,    0,    0,\n",
       "          0,    0,    0,    0,    0,    0,    0,    0,    0,    0,    0,\n",
       "          0,    0,    0,    0,    0,    0,    0,    0,    0, 2071,   56,\n",
       "         26,  141,    6,  194, 7486,   18,    4,  226,   22,   21,  134,\n",
       "        476,   26,  480,    5,  144,   30, 5535,   18,   51,   36,   28,\n",
       "        224,   92,   25,  104,    4,  226,   65,   16,   38, 1334,   88,\n",
       "         12,   16,  283,    5,   16, 4472,  113,  103,   32,   15,   16,\n",
       "       5345,   19,  178,   32], dtype=int32)"
      ]
     },
     "execution_count": 44,
     "metadata": {},
     "output_type": "execute_result"
    }
   ],
   "source": [
    "x_train[0]"
   ]
  },
  {
   "cell_type": "code",
   "execution_count": 45,
   "id": "6dcdd3b5",
   "metadata": {},
   "outputs": [],
   "source": [
    "#training the model\n",
    "model = Sequential()\n",
    "model.add(Embedding(max_features, 64, input_length=maxlen))\n",
    "model.add(SimpleRNN(64,activation='relu'))\n",
    "\n",
    "model.add(Dense(1, activation='sigmoid'))"
   ]
  },
  {
   "cell_type": "code",
   "execution_count": 48,
   "id": "5a1ea4b1",
   "metadata": {},
   "outputs": [
    {
     "name": "stdout",
     "output_type": "stream",
     "text": [
      "Model: \"sequential\"\n",
      "_________________________________________________________________\n",
      " Layer (type)                Output Shape              Param #   \n",
      "=================================================================\n",
      " embedding (Embedding)       (None, 400, 64)           640000    \n",
      "                                                                 \n",
      " simple_rnn (SimpleRNN)      (None, 64)                8256      \n",
      "                                                                 \n",
      " dense (Dense)               (None, 1)                 65        \n",
      "                                                                 \n",
      "=================================================================\n",
      "Total params: 648321 (2.47 MB)\n",
      "Trainable params: 648321 (2.47 MB)\n",
      "Non-trainable params: 0 (0.00 Byte)\n",
      "_________________________________________________________________\n"
     ]
    }
   ],
   "source": [
    "model.summary()\n",
    "model.compile(loss='binary_crossentropy', optimizer='adam', metrics=['accuracy'])"
   ]
  },
  {
   "cell_type": "code",
   "execution_count": 49,
   "id": "6c2b9673",
   "metadata": {},
   "outputs": [],
   "source": [
    "from tensorflow.keras.callbacks import EarlyStopping\n",
    "early_stopping =EarlyStopping(monitor='val_loss', patience=5, restore_best_weights=True)"
   ]
  },
  {
   "cell_type": "code",
   "execution_count": 50,
   "id": "e9d56946",
   "metadata": {},
   "outputs": [
    {
     "name": "stdout",
     "output_type": "stream",
     "text": [
      "Epoch 1/10\n",
      "625/625 [==============================] - 21s 34ms/step - loss: 0.5386 - accuracy: 0.7117 - val_loss: 0.4788 - val_accuracy: 0.7546\n",
      "Epoch 2/10\n",
      "625/625 [==============================] - 20s 33ms/step - loss: 0.3482 - accuracy: 0.8490 - val_loss: 0.4352 - val_accuracy: 0.8080\n",
      "Epoch 3/10\n",
      "625/625 [==============================] - 21s 33ms/step - loss: 0.2551 - accuracy: 0.8968 - val_loss: 0.4852 - val_accuracy: 0.8064\n",
      "Epoch 4/10\n",
      "625/625 [==============================] - 21s 34ms/step - loss: 0.1930 - accuracy: 0.9255 - val_loss: 0.5243 - val_accuracy: 0.7844\n",
      "Epoch 5/10\n",
      "625/625 [==============================] - 21s 33ms/step - loss: 0.1396 - accuracy: 0.9468 - val_loss: 0.6654 - val_accuracy: 0.7910\n",
      "Epoch 6/10\n",
      "625/625 [==============================] - 20s 31ms/step - loss: 0.1095 - accuracy: 0.9600 - val_loss: 0.7364 - val_accuracy: 0.7854\n",
      "Epoch 7/10\n",
      "625/625 [==============================] - 20s 32ms/step - loss: 0.0812 - accuracy: 0.9718 - val_loss: 0.8912 - val_accuracy: 0.7824\n"
     ]
    },
    {
     "data": {
      "text/plain": [
       "<keras.src.callbacks.History at 0x1477bf6d0>"
      ]
     },
     "execution_count": 50,
     "metadata": {},
     "output_type": "execute_result"
    }
   ],
   "source": [
    "model.fit(\n",
    "    x_train, y_train,\n",
    "    batch_size=32,\n",
    "    epochs=10,\n",
    "    validation_split=0.2,\n",
    "    callbacks=[early_stopping]\n",
    ")"
   ]
  },
  {
   "cell_type": "code",
   "execution_count": 51,
   "id": "cdc79853",
   "metadata": {},
   "outputs": [
    {
     "name": "stderr",
     "output_type": "stream",
     "text": [
      "/Users/ayushbachuwar/Desktop/GenAi/ANN_Clssification/venv/lib/python3.11/site-packages/keras/src/engine/training.py:3103: UserWarning: You are saving your model as an HDF5 file via `model.save()`. This file format is considered legacy. We recommend using instead the native Keras format, e.g. `model.save('my_model.keras')`.\n",
      "  saving_api.save_model(\n"
     ]
    }
   ],
   "source": [
    "model.save('imdb_rnn_model.h5')"
   ]
  },
  {
   "cell_type": "code",
   "execution_count": null,
   "id": "289c829e",
   "metadata": {},
   "outputs": [],
   "source": []
  }
 ],
 "metadata": {
  "kernelspec": {
   "display_name": "venv",
   "language": "python",
   "name": "python3"
  },
  "language_info": {
   "codemirror_mode": {
    "name": "ipython",
    "version": 3
   },
   "file_extension": ".py",
   "mimetype": "text/x-python",
   "name": "python",
   "nbconvert_exporter": "python",
   "pygments_lexer": "ipython3",
   "version": "3.11.0"
  }
 },
 "nbformat": 4,
 "nbformat_minor": 5
}
